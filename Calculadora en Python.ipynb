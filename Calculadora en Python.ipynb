{
 "cells": [
  {
   "cell_type": "code",
   "execution_count": null,
   "id": "26571089",
   "metadata": {},
   "outputs": [],
   "source": [
    "\n",
    "num1 = eval (input(\"Ingresa un numero:\"))\n",
    "num2 = eval (input(\"Ingresa otro numero:\"))\n",
    "\n",
    "operation =(input(\"Que operacion deseas realizar? suma, resta, multiplicacion, division o potencia:\"))\n",
    "\n",
    "\n",
    "if operation == 'suma':\n",
    "    print (\"El resultado es:\", num1+num2)\n",
    "    \n",
    "elif operation == 'resta':\n",
    "    print (\"El resultado es:\", num1-num2)\n",
    "\n",
    "elif operation == 'multiplicacion':\n",
    "    print (\"El resultado es:\", num1*num2)\n",
    "\n",
    "elif operation == 'division':\n",
    "    print (\"El resultado es:\", num1/num2)\n",
    "\n",
    "elif operation == 'potencia':\n",
    "    print (\"El resultado es:\", num1**num2)\n",
    "    "
   ]
  },
  {
   "cell_type": "code",
   "execution_count": null,
   "id": "b5df7c32",
   "metadata": {},
   "outputs": [],
   "source": []
  }
 ],
 "metadata": {
  "kernelspec": {
   "display_name": "Python 3 (ipykernel)",
   "language": "python",
   "name": "python3"
  },
  "language_info": {
   "codemirror_mode": {
    "name": "ipython",
    "version": 3
   },
   "file_extension": ".py",
   "mimetype": "text/x-python",
   "name": "python",
   "nbconvert_exporter": "python",
   "pygments_lexer": "ipython3",
   "version": "3.11.7"
  }
 },
 "nbformat": 4,
 "nbformat_minor": 5
}
